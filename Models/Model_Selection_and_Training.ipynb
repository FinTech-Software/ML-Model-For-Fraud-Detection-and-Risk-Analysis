{
 "cells": [
  {
   "cell_type": "code",
   "execution_count": 3,
   "id": "6c58c109",
   "metadata": {},
   "outputs": [],
   "source": [
    "import pandas as pd\n",
    "import matplotlib.pyplot as plt\n",
    "import seaborn as sns\n",
    "from sklearn.preprocessing import StandardScaler, OneHotEncoder\n",
    "from sklearn.compose import ColumnTransformer\n",
    "from sklearn.pipeline import Pipeline\n",
    "from sklearn.model_selection import train_test_split\n",
    "from sklearn.linear_model import LogisticRegression\n",
    "from sklearn.ensemble import RandomForestClassifier, GradientBoostingClassifier\n",
    "from sklearn.svm import SVC\n",
    "from xgboost import XGBClassifier\n",
    "from sklearn.metrics import classification_report, roc_auc_score, precision_recall_curve\n",
    "import warnings\n",
    "warnings.filterwarnings(\"ignore\")"
   ]
  },
  {
   "cell_type": "markdown",
   "id": "bb2b5172",
   "metadata": {},
   "source": [
    "### Reading the dataset"
   ]
  },
  {
   "cell_type": "code",
   "execution_count": 4,
   "id": "5adddfe2",
   "metadata": {},
   "outputs": [],
   "source": [
    "df = pd.read_csv('../assets/preprocessed_fraud_dataset.csv')"
   ]
  },
  {
   "cell_type": "markdown",
   "id": "d5b8b284",
   "metadata": {},
   "source": [
    "### Separate features and target"
   ]
  },
  {
   "cell_type": "code",
   "execution_count": 5,
   "id": "82edad52",
   "metadata": {},
   "outputs": [],
   "source": [
    "X = df.drop('Fraud_Label', axis=1)\n",
    "y = df['Fraud_Label']"
   ]
  },
  {
   "cell_type": "markdown",
   "id": "e72a00c2",
   "metadata": {},
   "source": [
    "### Define categorical and numerical features"
   ]
  },
  {
   "cell_type": "code",
   "execution_count": 6,
   "id": "49625ca1",
   "metadata": {},
   "outputs": [],
   "source": [
    "categorical_features = ['Transaction_Type', 'Device_Type', 'Location', \n",
    "                       'Merchant_Category', 'Authentication_Method']\n",
    "numerical_features = [col for col in X.columns if col not in categorical_features]"
   ]
  },
  {
   "cell_type": "markdown",
   "id": "7c9f316c",
   "metadata": {},
   "source": [
    "### Create preprocessing pipeline"
   ]
  },
  {
   "cell_type": "code",
   "execution_count": 7,
   "id": "c18c3a6c",
   "metadata": {},
   "outputs": [],
   "source": [
    "preprocessor = ColumnTransformer(\n",
    "    transformers=[\n",
    "        ('num', StandardScaler(), numerical_features),\n",
    "        ('cat', OneHotEncoder(handle_unknown='ignore'), categorical_features)\n",
    "    ])"
   ]
  },
  {
   "cell_type": "markdown",
   "id": "cd475bf4",
   "metadata": {},
   "source": [
    "### Split data"
   ]
  },
  {
   "cell_type": "code",
   "execution_count": 8,
   "id": "6c65c867",
   "metadata": {},
   "outputs": [],
   "source": [
    "X_train, X_test, y_train, y_test = train_test_split(X, y, test_size=0.2, random_state=42, stratify=y)"
   ]
  },
  {
   "cell_type": "markdown",
   "id": "38022307",
   "metadata": {},
   "source": [
    "### Model Selection and Training"
   ]
  },
  {
   "cell_type": "markdown",
   "id": "cda41282",
   "metadata": {},
   "source": [
    "#### Define models to try"
   ]
  },
  {
   "cell_type": "code",
   "execution_count": 9,
   "id": "68f892f5",
   "metadata": {},
   "outputs": [],
   "source": [
    "models = {\n",
    "    'Logistic Regression': LogisticRegression(max_iter=1000, class_weight='balanced'),\n",
    "    'Random Forest': RandomForestClassifier(class_weight='balanced'),\n",
    "    'Gradient Boosting': GradientBoostingClassifier(),\n",
    "    'XGBoost': XGBClassifier(scale_pos_weight=len(y_train[y_train==0])/len(y_train[y_train==1]))\n",
    "}"
   ]
  },
  {
   "cell_type": "markdown",
   "id": "8e732dc1",
   "metadata": {},
   "source": [
    "#### Train and evaluate models"
   ]
  },
  {
   "cell_type": "code",
   "execution_count": 10,
   "id": "5da9b3f3",
   "metadata": {},
   "outputs": [
    {
     "ename": "ValueError",
     "evalue": "could not convert string to float: 'Amex'",
     "output_type": "error",
     "traceback": [
      "\u001b[31m---------------------------------------------------------------------------\u001b[39m",
      "\u001b[31mValueError\u001b[39m                                Traceback (most recent call last)",
      "\u001b[32m~\\AppData\\Local\\Temp\\ipykernel_22408\\1766691793.py\u001b[39m in \u001b[36m?\u001b[39m\u001b[34m()\u001b[39m\n\u001b[32m      4\u001b[39m     pipeline = Pipeline(steps=[('preprocessor', preprocessor),\n\u001b[32m      5\u001b[39m                               ('classifier', model)])\n\u001b[32m      6\u001b[39m \n\u001b[32m      7\u001b[39m     \u001b[38;5;66;03m# Fit the model\u001b[39;00m\n\u001b[32m----> \u001b[39m\u001b[32m8\u001b[39m     pipeline.fit(X_train, y_train)\n\u001b[32m      9\u001b[39m \n\u001b[32m     10\u001b[39m     \u001b[38;5;66;03m# Predict\u001b[39;00m\n\u001b[32m     11\u001b[39m     y_pred = pipeline.predict(X_test)\n",
      "\u001b[32md:\\Documents\\MCA Course\\ML-Model-For-Fraud-Detection-and-Risk-Analysis\\ml-model-venv\\Lib\\site-packages\\sklearn\\base.py\u001b[39m in \u001b[36m?\u001b[39m\u001b[34m(estimator, *args, **kwargs)\u001b[39m\n\u001b[32m   1385\u001b[39m                 skip_parameter_validation=(\n\u001b[32m   1386\u001b[39m                     prefer_skip_nested_validation \u001b[38;5;28;01mor\u001b[39;00m global_skip_validation\n\u001b[32m   1387\u001b[39m                 )\n\u001b[32m   1388\u001b[39m             ):\n\u001b[32m-> \u001b[39m\u001b[32m1389\u001b[39m                 \u001b[38;5;28;01mreturn\u001b[39;00m fit_method(estimator, *args, **kwargs)\n",
      "\u001b[32md:\\Documents\\MCA Course\\ML-Model-For-Fraud-Detection-and-Risk-Analysis\\ml-model-venv\\Lib\\site-packages\\sklearn\\pipeline.py\u001b[39m in \u001b[36m?\u001b[39m\u001b[34m(self, X, y, **params)\u001b[39m\n\u001b[32m    650\u001b[39m                 \u001b[33m\"`sklearn.set_config(enable_metadata_routing=True)`.\"\u001b[39m\n\u001b[32m    651\u001b[39m             )\n\u001b[32m    652\u001b[39m \n\u001b[32m    653\u001b[39m         routed_params = self._check_method_params(method=\u001b[33m\"fit\"\u001b[39m, props=params)\n\u001b[32m--> \u001b[39m\u001b[32m654\u001b[39m         Xt = self._fit(X, y, routed_params, raw_params=params)\n\u001b[32m    655\u001b[39m         \u001b[38;5;28;01mwith\u001b[39;00m _print_elapsed_time(\u001b[33m\"Pipeline\"\u001b[39m, self._log_message(len(self.steps) - \u001b[32m1\u001b[39m)):\n\u001b[32m    656\u001b[39m             \u001b[38;5;28;01mif\u001b[39;00m self._final_estimator != \u001b[33m\"passthrough\"\u001b[39m:\n\u001b[32m    657\u001b[39m                 last_step_params = self._get_metadata_for_step(\n",
      "\u001b[32md:\\Documents\\MCA Course\\ML-Model-For-Fraud-Detection-and-Risk-Analysis\\ml-model-venv\\Lib\\site-packages\\sklearn\\pipeline.py\u001b[39m in \u001b[36m?\u001b[39m\u001b[34m(self, X, y, routed_params, raw_params)\u001b[39m\n\u001b[32m    584\u001b[39m                 step_params=routed_params[name],\n\u001b[32m    585\u001b[39m                 all_params=raw_params,\n\u001b[32m    586\u001b[39m             )\n\u001b[32m    587\u001b[39m \n\u001b[32m--> \u001b[39m\u001b[32m588\u001b[39m             X, fitted_transformer = fit_transform_one_cached(\n\u001b[32m    589\u001b[39m                 cloned_transformer,\n\u001b[32m    590\u001b[39m                 X,\n\u001b[32m    591\u001b[39m                 y,\n",
      "\u001b[32md:\\Documents\\MCA Course\\ML-Model-For-Fraud-Detection-and-Risk-Analysis\\ml-model-venv\\Lib\\site-packages\\joblib\\memory.py\u001b[39m in \u001b[36m?\u001b[39m\u001b[34m(self, *args, **kwargs)\u001b[39m\n\u001b[32m    311\u001b[39m     \u001b[38;5;28;01mdef\u001b[39;00m __call__(self, *args, **kwargs):\n\u001b[32m--> \u001b[39m\u001b[32m312\u001b[39m         \u001b[38;5;28;01mreturn\u001b[39;00m self.func(*args, **kwargs)\n",
      "\u001b[32md:\\Documents\\MCA Course\\ML-Model-For-Fraud-Detection-and-Risk-Analysis\\ml-model-venv\\Lib\\site-packages\\sklearn\\pipeline.py\u001b[39m in \u001b[36m?\u001b[39m\u001b[34m(transformer, X, y, weight, message_clsname, message, params)\u001b[39m\n\u001b[32m   1547\u001b[39m     \"\"\"\n\u001b[32m   1548\u001b[39m     params = params \u001b[38;5;28;01mor\u001b[39;00m {}\n\u001b[32m   1549\u001b[39m     \u001b[38;5;28;01mwith\u001b[39;00m _print_elapsed_time(message_clsname, message):\n\u001b[32m   1550\u001b[39m         \u001b[38;5;28;01mif\u001b[39;00m hasattr(transformer, \u001b[33m\"fit_transform\"\u001b[39m):\n\u001b[32m-> \u001b[39m\u001b[32m1551\u001b[39m             res = transformer.fit_transform(X, y, **params.get(\u001b[33m\"fit_transform\"\u001b[39m, {}))\n\u001b[32m   1552\u001b[39m         \u001b[38;5;28;01melse\u001b[39;00m:\n\u001b[32m   1553\u001b[39m             res = transformer.fit(X, y, **params.get(\"fit\", {})).transform(\n\u001b[32m   1554\u001b[39m                 X, **params.get(\u001b[33m\"transform\"\u001b[39m, {})\n",
      "\u001b[32md:\\Documents\\MCA Course\\ML-Model-For-Fraud-Detection-and-Risk-Analysis\\ml-model-venv\\Lib\\site-packages\\sklearn\\utils\\_set_output.py\u001b[39m in \u001b[36m?\u001b[39m\u001b[34m(self, X, *args, **kwargs)\u001b[39m\n\u001b[32m    317\u001b[39m     @wraps(f)\n\u001b[32m    318\u001b[39m     \u001b[38;5;28;01mdef\u001b[39;00m wrapped(self, X, *args, **kwargs):\n\u001b[32m--> \u001b[39m\u001b[32m319\u001b[39m         data_to_wrap = f(self, X, *args, **kwargs)\n\u001b[32m    320\u001b[39m         \u001b[38;5;28;01mif\u001b[39;00m isinstance(data_to_wrap, tuple):\n\u001b[32m    321\u001b[39m             \u001b[38;5;66;03m# only wrap the first output for cross decomposition\u001b[39;00m\n\u001b[32m    322\u001b[39m             return_tuple = (\n",
      "\u001b[32md:\\Documents\\MCA Course\\ML-Model-For-Fraud-Detection-and-Risk-Analysis\\ml-model-venv\\Lib\\site-packages\\sklearn\\base.py\u001b[39m in \u001b[36m?\u001b[39m\u001b[34m(estimator, *args, **kwargs)\u001b[39m\n\u001b[32m   1385\u001b[39m                 skip_parameter_validation=(\n\u001b[32m   1386\u001b[39m                     prefer_skip_nested_validation \u001b[38;5;28;01mor\u001b[39;00m global_skip_validation\n\u001b[32m   1387\u001b[39m                 )\n\u001b[32m   1388\u001b[39m             ):\n\u001b[32m-> \u001b[39m\u001b[32m1389\u001b[39m                 \u001b[38;5;28;01mreturn\u001b[39;00m fit_method(estimator, *args, **kwargs)\n",
      "\u001b[32md:\\Documents\\MCA Course\\ML-Model-For-Fraud-Detection-and-Risk-Analysis\\ml-model-venv\\Lib\\site-packages\\sklearn\\compose\\_column_transformer.py\u001b[39m in \u001b[36m?\u001b[39m\u001b[34m(self, X, y, **params)\u001b[39m\n\u001b[32m    997\u001b[39m             routed_params = process_routing(self, \u001b[33m\"fit_transform\"\u001b[39m, **params)\n\u001b[32m    998\u001b[39m         \u001b[38;5;28;01melse\u001b[39;00m:\n\u001b[32m    999\u001b[39m             routed_params = self._get_empty_routing()\n\u001b[32m   1000\u001b[39m \n\u001b[32m-> \u001b[39m\u001b[32m1001\u001b[39m         result = self._call_func_on_transformers(\n\u001b[32m   1002\u001b[39m             X,\n\u001b[32m   1003\u001b[39m             y,\n\u001b[32m   1004\u001b[39m             _fit_transform_one,\n",
      "\u001b[32md:\\Documents\\MCA Course\\ML-Model-For-Fraud-Detection-and-Risk-Analysis\\ml-model-venv\\Lib\\site-packages\\sklearn\\compose\\_column_transformer.py\u001b[39m in \u001b[36m?\u001b[39m\u001b[34m(self, X, y, func, column_as_labels, routed_params)\u001b[39m\n\u001b[32m    912\u001b[39m         \u001b[38;5;28;01mexcept\u001b[39;00m ValueError \u001b[38;5;28;01mas\u001b[39;00m e:\n\u001b[32m    913\u001b[39m             \u001b[38;5;28;01mif\u001b[39;00m \u001b[33m\"Expected 2D array, got 1D array instead\"\u001b[39m \u001b[38;5;28;01min\u001b[39;00m str(e):\n\u001b[32m    914\u001b[39m                 \u001b[38;5;28;01mraise\u001b[39;00m ValueError(_ERR_MSG_1DCOLUMN) \u001b[38;5;28;01mfrom\u001b[39;00m e\n\u001b[32m    915\u001b[39m             \u001b[38;5;28;01melse\u001b[39;00m:\n\u001b[32m--> \u001b[39m\u001b[32m916\u001b[39m                 \u001b[38;5;28;01mraise\u001b[39;00m\n",
      "\u001b[32md:\\Documents\\MCA Course\\ML-Model-For-Fraud-Detection-and-Risk-Analysis\\ml-model-venv\\Lib\\site-packages\\sklearn\\utils\\parallel.py\u001b[39m in \u001b[36m?\u001b[39m\u001b[34m(self, iterable)\u001b[39m\n\u001b[32m     73\u001b[39m         iterable_with_config = (\n\u001b[32m     74\u001b[39m             (_with_config(delayed_func, config), args, kwargs)\n\u001b[32m     75\u001b[39m             \u001b[38;5;28;01mfor\u001b[39;00m delayed_func, args, kwargs \u001b[38;5;28;01min\u001b[39;00m iterable\n\u001b[32m     76\u001b[39m         )\n\u001b[32m---> \u001b[39m\u001b[32m77\u001b[39m         \u001b[38;5;28;01mreturn\u001b[39;00m super().__call__(iterable_with_config)\n",
      "\u001b[32md:\\Documents\\MCA Course\\ML-Model-For-Fraud-Detection-and-Risk-Analysis\\ml-model-venv\\Lib\\site-packages\\joblib\\parallel.py\u001b[39m in \u001b[36m?\u001b[39m\u001b[34m(self, iterable)\u001b[39m\n\u001b[32m   1914\u001b[39m             \u001b[38;5;66;03m# If n_jobs==1, run the computation sequentially and return\u001b[39;00m\n\u001b[32m   1915\u001b[39m             \u001b[38;5;66;03m# immediately to avoid overheads.\u001b[39;00m\n\u001b[32m   1916\u001b[39m             output = self._get_sequential_output(iterable)\n\u001b[32m   1917\u001b[39m             next(output)\n\u001b[32m-> \u001b[39m\u001b[32m1918\u001b[39m             \u001b[38;5;28;01mreturn\u001b[39;00m output \u001b[38;5;28;01mif\u001b[39;00m self.return_generator \u001b[38;5;28;01melse\u001b[39;00m list(output)\n\u001b[32m   1919\u001b[39m \n\u001b[32m   1920\u001b[39m         \u001b[38;5;66;03m# Let's create an ID that uniquely identifies the current call. If the\u001b[39;00m\n\u001b[32m   1921\u001b[39m         \u001b[38;5;66;03m# call is interrupted early and that the same instance is immediately\u001b[39;00m\n",
      "\u001b[32md:\\Documents\\MCA Course\\ML-Model-For-Fraud-Detection-and-Risk-Analysis\\ml-model-venv\\Lib\\site-packages\\joblib\\parallel.py\u001b[39m in \u001b[36m?\u001b[39m\u001b[34m(self, iterable)\u001b[39m\n\u001b[32m   1857\u001b[39m         \u001b[38;5;28;01mfinally\u001b[39;00m:\n\u001b[32m   1858\u001b[39m             self.print_progress()\n\u001b[32m   1859\u001b[39m             self._running = \u001b[38;5;28;01mFalse\u001b[39;00m\n\u001b[32m   1860\u001b[39m             self._iterating = \u001b[38;5;28;01mFalse\u001b[39;00m\n\u001b[32m-> \u001b[39m\u001b[32m1861\u001b[39m             self._original_iterator = \u001b[38;5;28;01mNone\u001b[39;00m\n",
      "\u001b[32md:\\Documents\\MCA Course\\ML-Model-For-Fraud-Detection-and-Risk-Analysis\\ml-model-venv\\Lib\\site-packages\\sklearn\\utils\\parallel.py\u001b[39m in \u001b[36m?\u001b[39m\u001b[34m(self, *args, **kwargs)\u001b[39m\n\u001b[32m    135\u001b[39m                 UserWarning,\n\u001b[32m    136\u001b[39m             )\n\u001b[32m    137\u001b[39m             config = {}\n\u001b[32m    138\u001b[39m         \u001b[38;5;28;01mwith\u001b[39;00m config_context(**config):\n\u001b[32m--> \u001b[39m\u001b[32m139\u001b[39m             \u001b[38;5;28;01mreturn\u001b[39;00m self.function(*args, **kwargs)\n",
      "\u001b[32md:\\Documents\\MCA Course\\ML-Model-For-Fraud-Detection-and-Risk-Analysis\\ml-model-venv\\Lib\\site-packages\\sklearn\\pipeline.py\u001b[39m in \u001b[36m?\u001b[39m\u001b[34m(transformer, X, y, weight, message_clsname, message, params)\u001b[39m\n\u001b[32m   1547\u001b[39m     \"\"\"\n\u001b[32m   1548\u001b[39m     params = params \u001b[38;5;28;01mor\u001b[39;00m {}\n\u001b[32m   1549\u001b[39m     \u001b[38;5;28;01mwith\u001b[39;00m _print_elapsed_time(message_clsname, message):\n\u001b[32m   1550\u001b[39m         \u001b[38;5;28;01mif\u001b[39;00m hasattr(transformer, \u001b[33m\"fit_transform\"\u001b[39m):\n\u001b[32m-> \u001b[39m\u001b[32m1551\u001b[39m             res = transformer.fit_transform(X, y, **params.get(\u001b[33m\"fit_transform\"\u001b[39m, {}))\n\u001b[32m   1552\u001b[39m         \u001b[38;5;28;01melse\u001b[39;00m:\n\u001b[32m   1553\u001b[39m             res = transformer.fit(X, y, **params.get(\"fit\", {})).transform(\n\u001b[32m   1554\u001b[39m                 X, **params.get(\u001b[33m\"transform\"\u001b[39m, {})\n",
      "\u001b[32md:\\Documents\\MCA Course\\ML-Model-For-Fraud-Detection-and-Risk-Analysis\\ml-model-venv\\Lib\\site-packages\\sklearn\\utils\\_set_output.py\u001b[39m in \u001b[36m?\u001b[39m\u001b[34m(self, X, *args, **kwargs)\u001b[39m\n\u001b[32m    317\u001b[39m     @wraps(f)\n\u001b[32m    318\u001b[39m     \u001b[38;5;28;01mdef\u001b[39;00m wrapped(self, X, *args, **kwargs):\n\u001b[32m--> \u001b[39m\u001b[32m319\u001b[39m         data_to_wrap = f(self, X, *args, **kwargs)\n\u001b[32m    320\u001b[39m         \u001b[38;5;28;01mif\u001b[39;00m isinstance(data_to_wrap, tuple):\n\u001b[32m    321\u001b[39m             \u001b[38;5;66;03m# only wrap the first output for cross decomposition\u001b[39;00m\n\u001b[32m    322\u001b[39m             return_tuple = (\n",
      "\u001b[32md:\\Documents\\MCA Course\\ML-Model-For-Fraud-Detection-and-Risk-Analysis\\ml-model-venv\\Lib\\site-packages\\sklearn\\base.py\u001b[39m in \u001b[36m?\u001b[39m\u001b[34m(self, X, y, **fit_params)\u001b[39m\n\u001b[32m    917\u001b[39m             \u001b[38;5;66;03m# fit method of arity 1 (unsupervised transformation)\u001b[39;00m\n\u001b[32m    918\u001b[39m             \u001b[38;5;28;01mreturn\u001b[39;00m self.fit(X, **fit_params).transform(X)\n\u001b[32m    919\u001b[39m         \u001b[38;5;28;01melse\u001b[39;00m:\n\u001b[32m    920\u001b[39m             \u001b[38;5;66;03m# fit method of arity 2 (supervised transformation)\u001b[39;00m\n\u001b[32m--> \u001b[39m\u001b[32m921\u001b[39m             \u001b[38;5;28;01mreturn\u001b[39;00m self.fit(X, y, **fit_params).transform(X)\n",
      "\u001b[32md:\\Documents\\MCA Course\\ML-Model-For-Fraud-Detection-and-Risk-Analysis\\ml-model-venv\\Lib\\site-packages\\sklearn\\preprocessing\\_data.py\u001b[39m in \u001b[36m?\u001b[39m\u001b[34m(self, X, y, sample_weight)\u001b[39m\n\u001b[32m    890\u001b[39m             Fitted scaler.\n\u001b[32m    891\u001b[39m         \"\"\"\n\u001b[32m    892\u001b[39m         \u001b[38;5;66;03m# Reset internal state before fitting\u001b[39;00m\n\u001b[32m    893\u001b[39m         self._reset()\n\u001b[32m--> \u001b[39m\u001b[32m894\u001b[39m         \u001b[38;5;28;01mreturn\u001b[39;00m self.partial_fit(X, y, sample_weight)\n",
      "\u001b[32md:\\Documents\\MCA Course\\ML-Model-For-Fraud-Detection-and-Risk-Analysis\\ml-model-venv\\Lib\\site-packages\\sklearn\\base.py\u001b[39m in \u001b[36m?\u001b[39m\u001b[34m(estimator, *args, **kwargs)\u001b[39m\n\u001b[32m   1385\u001b[39m                 skip_parameter_validation=(\n\u001b[32m   1386\u001b[39m                     prefer_skip_nested_validation \u001b[38;5;28;01mor\u001b[39;00m global_skip_validation\n\u001b[32m   1387\u001b[39m                 )\n\u001b[32m   1388\u001b[39m             ):\n\u001b[32m-> \u001b[39m\u001b[32m1389\u001b[39m                 \u001b[38;5;28;01mreturn\u001b[39;00m fit_method(estimator, *args, **kwargs)\n",
      "\u001b[32md:\\Documents\\MCA Course\\ML-Model-For-Fraud-Detection-and-Risk-Analysis\\ml-model-venv\\Lib\\site-packages\\sklearn\\preprocessing\\_data.py\u001b[39m in \u001b[36m?\u001b[39m\u001b[34m(self, X, y, sample_weight)\u001b[39m\n\u001b[32m    926\u001b[39m         self : object\n\u001b[32m    927\u001b[39m             Fitted scaler.\n\u001b[32m    928\u001b[39m         \"\"\"\n\u001b[32m    929\u001b[39m         first_call = \u001b[38;5;28;01mnot\u001b[39;00m hasattr(self, \u001b[33m\"n_samples_seen_\"\u001b[39m)\n\u001b[32m--> \u001b[39m\u001b[32m930\u001b[39m         X = validate_data(\n\u001b[32m    931\u001b[39m             self,\n\u001b[32m    932\u001b[39m             X,\n\u001b[32m    933\u001b[39m             accept_sparse=(\u001b[33m\"csr\"\u001b[39m, \u001b[33m\"csc\"\u001b[39m),\n",
      "\u001b[32md:\\Documents\\MCA Course\\ML-Model-For-Fraud-Detection-and-Risk-Analysis\\ml-model-venv\\Lib\\site-packages\\sklearn\\utils\\validation.py\u001b[39m in \u001b[36m?\u001b[39m\u001b[34m(_estimator, X, y, reset, validate_separately, skip_check_array, **check_params)\u001b[39m\n\u001b[32m   2940\u001b[39m             out = y\n\u001b[32m   2941\u001b[39m         \u001b[38;5;28;01melse\u001b[39;00m:\n\u001b[32m   2942\u001b[39m             out = X, y\n\u001b[32m   2943\u001b[39m     \u001b[38;5;28;01melif\u001b[39;00m \u001b[38;5;28;01mnot\u001b[39;00m no_val_X \u001b[38;5;28;01mand\u001b[39;00m no_val_y:\n\u001b[32m-> \u001b[39m\u001b[32m2944\u001b[39m         out = check_array(X, input_name=\u001b[33m\"X\"\u001b[39m, **check_params)\n\u001b[32m   2945\u001b[39m     \u001b[38;5;28;01melif\u001b[39;00m no_val_X \u001b[38;5;28;01mand\u001b[39;00m \u001b[38;5;28;01mnot\u001b[39;00m no_val_y:\n\u001b[32m   2946\u001b[39m         out = _check_y(y, **check_params)\n\u001b[32m   2947\u001b[39m     \u001b[38;5;28;01melse\u001b[39;00m:\n",
      "\u001b[32md:\\Documents\\MCA Course\\ML-Model-For-Fraud-Detection-and-Risk-Analysis\\ml-model-venv\\Lib\\site-packages\\sklearn\\utils\\validation.py\u001b[39m in \u001b[36m?\u001b[39m\u001b[34m(array, accept_sparse, accept_large_sparse, dtype, order, copy, force_writeable, force_all_finite, ensure_all_finite, ensure_non_negative, ensure_2d, allow_nd, ensure_min_samples, ensure_min_features, estimator, input_name)\u001b[39m\n\u001b[32m   1052\u001b[39m                         )\n\u001b[32m   1053\u001b[39m                     array = xp.astype(array, dtype, copy=\u001b[38;5;28;01mFalse\u001b[39;00m)\n\u001b[32m   1054\u001b[39m                 \u001b[38;5;28;01melse\u001b[39;00m:\n\u001b[32m   1055\u001b[39m                     array = _asarray_with_order(array, order=order, dtype=dtype, xp=xp)\n\u001b[32m-> \u001b[39m\u001b[32m1056\u001b[39m             \u001b[38;5;28;01mexcept\u001b[39;00m ComplexWarning \u001b[38;5;28;01mas\u001b[39;00m complex_warning:\n\u001b[32m   1057\u001b[39m                 raise ValueError(\n\u001b[32m   1058\u001b[39m                     \u001b[33m\"Complex data not supported\\n{}\\n\"\u001b[39m.format(array)\n\u001b[32m   1059\u001b[39m                 ) from complex_warning\n",
      "\u001b[32md:\\Documents\\MCA Course\\ML-Model-For-Fraud-Detection-and-Risk-Analysis\\ml-model-venv\\Lib\\site-packages\\sklearn\\utils\\_array_api.py\u001b[39m in \u001b[36m?\u001b[39m\u001b[34m(array, dtype, order, copy, xp, device)\u001b[39m\n\u001b[32m    835\u001b[39m         \u001b[38;5;66;03m# Use NumPy API to support order\u001b[39;00m\n\u001b[32m    836\u001b[39m         \u001b[38;5;28;01mif\u001b[39;00m copy \u001b[38;5;28;01mis\u001b[39;00m \u001b[38;5;28;01mTrue\u001b[39;00m:\n\u001b[32m    837\u001b[39m             array = numpy.array(array, order=order, dtype=dtype)\n\u001b[32m    838\u001b[39m         \u001b[38;5;28;01melse\u001b[39;00m:\n\u001b[32m--> \u001b[39m\u001b[32m839\u001b[39m             array = numpy.asarray(array, order=order, dtype=dtype)\n\u001b[32m    840\u001b[39m \n\u001b[32m    841\u001b[39m         \u001b[38;5;66;03m# At this point array is a NumPy ndarray. We convert it to an array\u001b[39;00m\n\u001b[32m    842\u001b[39m         \u001b[38;5;66;03m# container that is consistent with the input's namespace.\u001b[39;00m\n",
      "\u001b[32md:\\Documents\\MCA Course\\ML-Model-For-Fraud-Detection-and-Risk-Analysis\\ml-model-venv\\Lib\\site-packages\\pandas\\core\\generic.py\u001b[39m in \u001b[36m?\u001b[39m\u001b[34m(self, dtype, copy)\u001b[39m\n\u001b[32m   2149\u001b[39m     def __array__(\n\u001b[32m   2150\u001b[39m         self, dtype: npt.DTypeLike | \u001b[38;5;28;01mNone\u001b[39;00m = \u001b[38;5;28;01mNone\u001b[39;00m, copy: bool_t | \u001b[38;5;28;01mNone\u001b[39;00m = \u001b[38;5;28;01mNone\u001b[39;00m\n\u001b[32m   2151\u001b[39m     ) -> np.ndarray:\n\u001b[32m   2152\u001b[39m         values = self._values\n\u001b[32m-> \u001b[39m\u001b[32m2153\u001b[39m         arr = np.asarray(values, dtype=dtype)\n\u001b[32m   2154\u001b[39m         if (\n\u001b[32m   2155\u001b[39m             astype_is_view(values.dtype, arr.dtype)\n\u001b[32m   2156\u001b[39m             \u001b[38;5;28;01mand\u001b[39;00m using_copy_on_write()\n",
      "\u001b[31mValueError\u001b[39m: could not convert string to float: 'Amex'"
     ]
    }
   ],
   "source": [
    "results = {}\n",
    "for name, model in models.items():\n",
    "    # Create pipeline\n",
    "    pipeline = Pipeline(steps=[('preprocessor', preprocessor),\n",
    "                              ('classifier', model)])\n",
    "    \n",
    "    # Fit the model\n",
    "    pipeline.fit(X_train, y_train)\n",
    "    \n",
    "    # Predict\n",
    "    y_pred = pipeline.predict(X_test)\n",
    "    y_proba = pipeline.predict_proba(X_test)[:, 1]\n",
    "    \n",
    "    # Store results\n",
    "    results[name] = {\n",
    "        'classification_report': classification_report(y_test, y_pred),\n",
    "        'roc_auc': roc_auc_score(y_test, y_proba)\n",
    "    }\n",
    "    \n",
    "    print(f\"{name} Results:\")\n",
    "    print(classification_report(y_test, y_pred))\n",
    "    print(f\"ROC-AUC: {roc_auc_score(y_test, y_proba):.4f}\\n\")"
   ]
  }
 ],
 "metadata": {
  "kernelspec": {
   "display_name": "ml-model-venv",
   "language": "python",
   "name": "python3"
  },
  "language_info": {
   "codemirror_mode": {
    "name": "ipython",
    "version": 3
   },
   "file_extension": ".py",
   "mimetype": "text/x-python",
   "name": "python",
   "nbconvert_exporter": "python",
   "pygments_lexer": "ipython3",
   "version": "3.11.0"
  }
 },
 "nbformat": 4,
 "nbformat_minor": 5
}
